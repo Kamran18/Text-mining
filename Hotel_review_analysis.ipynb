{
 "cells": [
  {
   "cell_type": "code",
   "execution_count": 19,
   "metadata": {},
   "outputs": [],
   "source": [
    "from bs4 import BeautifulSoup as soup\n",
    "import requests as req\n",
    "import csv"
   ]
  },
  {
   "cell_type": "code",
   "execution_count": 25,
   "metadata": {},
   "outputs": [],
   "source": [
    "def extractReviews(hotelUrl):\n",
    "    preUrl = '''https://in.hotels.com'''\n",
    "\n",
    "    r = req.get(hotelUrl)\n",
    "    htmlPage = soup(r.content ,'html.parser')\n",
    "    \n",
    "    \n",
    "    hotelReviewUrl = htmlPage.find('div', {'class' : 'see-all-reviews'})\n",
    "    # If no review found for the hotel\n",
    "    if hotelReviewUrl == None:\n",
    "        print('No review found')\n",
    "        return\n",
    "    \n",
    "    hotelReviewUrl = hotelReviewUrl.find('a', {'class' : 'cta'})\n",
    "    \n",
    "    pageNo = 0 #Page from which comments sre extracted\n",
    "    \n",
    "    #store all the reviews on the file\n",
    "    with open ('reviewsWithMeta.csv', 'w', encoding=\"utf-8\", newline='') as file:\n",
    "        writer = csv.writer(file)\n",
    "        writer.writerow(['Rating','Rating Badge', 'Date', 'Stay Nights','Verified', 'Summary' ,'Review'])\n",
    "        \n",
    "        while hotelReviewUrl != None:\n",
    "            \n",
    "            pageNo = pageNo+1\n",
    "            print(pageNo)\n",
    "            \n",
    "            hotelReviewUrl = preUrl + hotelReviewUrl['href']\n",
    "\n",
    "            r = req.get(hotelReviewUrl)\n",
    "            htmlPage = soup(r.content ,'html.parser')\n",
    "\n",
    "        #   extract and save reviews\n",
    "            reviews = htmlPage.find_all('div', {'class' : 'review-card'})\n",
    "            for item in reviews:\n",
    "                rating = item.find(\"span\",{\"class\":\"rating-score\"}).text.strip()\n",
    "                ratingBadge = item.find('span', {'class': 'rating-badge'}).text.strip()\n",
    "                date = item.find(\"span\",{\"class\":\"date\"}).text.strip()\n",
    "                stayNights = item.find('span', {'class':'trip-type-nights'}).text.strip()\n",
    "                verified = item.find('div', {'class':'genuine-review'}).text.strip()\n",
    "                try:\n",
    "                    summary = item.find(\"span\", {\"class\": \"summary\"}).text.strip()\n",
    "                except:\n",
    "                    summary = ''\n",
    "                review = item.find(\"blockquote\", {\"class\":\"expandable-content description\"}).text.strip()\n",
    "                writer.writerow([rating,ratingBadge,date,stayNights,verified,summary,review])\n",
    "                \n",
    "            hotelReviewUrl = htmlPage.find('a', {'class' : 'cta cta-secondary cta-next'})  \n",
    "    print('Reviews extraction completed')"
   ]
  },
  {
   "cell_type": "code",
   "execution_count": 24,
   "metadata": {},
   "outputs": [
    {
     "name": "stdout",
     "output_type": "stream",
     "text": [
      "Enter hotel url ::\n",
      "https://in.hotels.com/ho333310/?pa=12&q-check-out=2020-09-25&tab=description&q-room-0-adults=2&YGF=2&q-check-in=2020-09-24&MGT=1&WOE=5&WOD=4&ZSX=0&SYE=3&q-room-0-children=0\n",
      "1\n",
      "2\n",
      "3\n"
     ]
    }
   ],
   "source": [
    "hotelUrl = input(\"Enter hotel url ::\\n\")\n",
    "extractReviews(hotelUrl)"
   ]
  },
  {
   "cell_type": "code",
   "execution_count": null,
   "metadata": {},
   "outputs": [],
   "source": []
  },
  {
   "cell_type": "code",
   "execution_count": null,
   "metadata": {},
   "outputs": [],
   "source": []
  },
  {
   "cell_type": "code",
   "execution_count": null,
   "metadata": {},
   "outputs": [],
   "source": []
  }
 ],
 "metadata": {
  "kernelspec": {
   "display_name": "Python 3",
   "language": "python",
   "name": "python3"
  },
  "language_info": {
   "codemirror_mode": {
    "name": "ipython",
    "version": 3
   },
   "file_extension": ".py",
   "mimetype": "text/x-python",
   "name": "python",
   "nbconvert_exporter": "python",
   "pygments_lexer": "ipython3",
   "version": "3.8.5"
  }
 },
 "nbformat": 4,
 "nbformat_minor": 4
}
